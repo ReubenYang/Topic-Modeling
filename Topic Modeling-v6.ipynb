{
 "cells": [
  {
   "cell_type": "code",
   "execution_count": 1,
   "metadata": {
    "collapsed": true
   },
   "outputs": [],
   "source": [
    "from nltk.tokenize import RegexpTokenizer\n",
    "from nltk.stem.porter import PorterStemmer\n",
    "from nltk.stem.wordnet import WordNetLemmatizer\n",
    "from nltk import word_tokenize\n",
    "from gensim import corpora, models\n",
    "import gensim\n",
    "import nltk\n",
    "import pandas as pd\n",
    "import numpy as np\n",
    "import re\n",
    "import random\n",
    "import matplotlib.pyplot as plt\n",
    "import pyLDAvis.gensim as gensimvis\n",
    "import pyLDAvis\n",
    "%matplotlib inline\n",
    "import warnings\n",
    "warnings.filterwarnings(\"ignore\", category=DeprecationWarning)"
   ]
  },
  {
   "cell_type": "markdown",
   "metadata": {},
   "source": [
    "# Load Data"
   ]
  },
  {
   "cell_type": "code",
   "execution_count": 2,
   "metadata": {
    "collapsed": true
   },
   "outputs": [],
   "source": [
    "articles = pd.read_csv('./Data/New_Full-Economic-News-DFE-839861.csv')"
   ]
  },
  {
   "cell_type": "code",
   "execution_count": 3,
   "metadata": {},
   "outputs": [
    {
     "data": {
      "text/plain": [
       "0    NEW YORK -- Yields on most certificates of dep...\n",
       "1    The Wall Street Journal Online</br></br>The Mo...\n",
       "2    WASHINGTON -- In an effort to achieve banking ...\n",
       "3    The statistics on the enormous costs of employ...\n",
       "4    NEW YORK -- Indecision marked the dollar's ton...\n",
       "Name: text, dtype: object"
      ]
     },
     "execution_count": 3,
     "metadata": {},
     "output_type": "execute_result"
    }
   ],
   "source": [
    "articles.text.head()"
   ]
  },
  {
   "cell_type": "markdown",
   "metadata": {},
   "source": [
    "# Data Preprocessing "
   ]
  },
  {
   "cell_type": "code",
   "execution_count": 4,
   "metadata": {
    "collapsed": true
   },
   "outputs": [],
   "source": [
    "#Text cleaning to remove numbers and special charaters\n",
    "\n",
    "def Word_cleaning(entry):\n",
    "    entry_low_case = entry.lower()\n",
    "    \n",
    "    #remove content before the first \"--\" and \"</br></br>\"\n",
    "    for i in range(35):\n",
    "        if ((entry_low_case[i:i+2] == '--') or (entry_low_case[i:i+10] == '</br></br>')):\n",
    "            entry_low_case = entry_low_case[i:]\n",
    "    \n",
    "    #keep only words\n",
    "    Only_words = re.sub('[^a-z]+', ' ', entry_low_case).strip()\n",
    "    #words = Only_words.split()\n",
    "    \n",
    "    return(Only_words)"
   ]
  },
  {
   "cell_type": "code",
   "execution_count": 5,
   "metadata": {
    "collapsed": true
   },
   "outputs": [],
   "source": [
    "articles[\"Text_Clean\"] = articles[\"text\"].apply(lambda item: Word_cleaning(str(item)))"
   ]
  },
  {
   "cell_type": "code",
   "execution_count": 6,
   "metadata": {
    "scrolled": true
   },
   "outputs": [
    {
     "data": {
      "text/plain": [
       "0       yields on most certificates of deposit offered...\n",
       "1       br br the morning brief a look at the day s bi...\n",
       "2       in an effort to achieve banking reform senate ...\n",
       "3       the statistics on the enormous costs of employ...\n",
       "4       indecision marked the dollar s tone as traders...\n",
       "5       stocks declined as investors weighed slower th...\n",
       "6       royal bank of canada and bank of montreal post...\n",
       "7       many people think that the monster of health c...\n",
       "8       sequenom inc a genomics based biotechnology co...\n",
       "9       the u s dollar declined against most major for...\n",
       "10      br br a late pop by general motors kept the do...\n",
       "11      mci worldcom inc fueled by growth in internet ...\n",
       "12      br br the dreaded d word is back in circulatio...\n",
       "13      commercial and industrial loan volume in the u...\n",
       "14      a week before an international economic summit...\n",
       "15      according to kevin a hassett and aparna mathur...\n",
       "16      the long black braid the blinding white cotton...\n",
       "17      the dollar sagged yesterday as news of a widel...\n",
       "18      by the time the parents of serena violano were...\n",
       "19      the outlook for business investment appears to...\n",
       "20      the technology industry an engine of innovatio...\n",
       "21      while acknowledging that the pace of economic ...\n",
       "22      venture capitalists never know for sure which ...\n",
       "23      br br br br centurytel embarq br br turn to al...\n",
       "24      br br new york blue chip stocks eked out a tin...\n",
       "25      the city of detroit plans to close public park...\n",
       "26      a sharp decline in the dollar prompted another...\n",
       "27      in a sign that inflation remains under control...\n",
       "28      a prominent longtime bear on gold is turning b...\n",
       "29      warburg pincus co is a classic wall street sma...\n",
       "                              ...                        \n",
       "7970    xkw vokk july i api blue riiij iii d glamor is...\n",
       "7971    virginia is a hothouse sprouting pacs this sum...\n",
       "7972    percent and the middle class slid from percent...\n",
       "7973    housing starts surged by percent last month of...\n",
       "7974    when it comes to actually cashing in stock mar...\n",
       "7975    the long running battle for control of the nat...\n",
       "7976    the treasury department announced yesterday th...\n",
       "7977    new york oct ap the stock market was undeterre...\n",
       "7978    maybe it s the dog days but three friends rece...\n",
       "7979    public confidence in president reagan s abilit...\n",
       "7980    the editors of national journal a respected an...\n",
       "7981    mayor marion barry facing a much larger potent...\n",
       "7982    as general motors and chrysler seek another in...\n",
       "7983    the u s economy ended on an apparently healthy...\n",
       "7984    perhaps nothing about the clinton administrati...\n",
       "7985    new york feb w the stock market declined today...\n",
       "7986    after two decades mired in the intractable pro...\n",
       "7987    and incessant tide of books and articles writt...\n",
       "7988    one of the most puzzling aspects of the econom...\n",
       "7989    with his popularity slowly eroding as the nati...\n",
       "7990    alan cowan said he s never been late paying hi...\n",
       "7991    in response to prodding from republican member...\n",
       "7992    that s the value of an estimated million of th...\n",
       "7993    what baltimore bancorp officials predicted wou...\n",
       "7994    new york oct aim tile slock market advanced to...\n",
       "7995    secretary of commerce charles w sawyer said ye...\n",
       "7996    u s stocks inched up last week overcoming conc...\n",
       "7997    ben s bernanke cleared a key hurdle thursday t...\n",
       "7998    the white house s push to contract out many fe...\n",
       "7999    new york april automobile stocks put on their ...\n",
       "Name: Text_Clean, Length: 8000, dtype: object"
      ]
     },
     "execution_count": 6,
     "metadata": {},
     "output_type": "execute_result"
    }
   ],
   "source": [
    "articles[\"Text_Clean\"] "
   ]
  },
  {
   "cell_type": "code",
   "execution_count": 7,
   "metadata": {
    "collapsed": true
   },
   "outputs": [],
   "source": [
    "Clean_Text = articles[\"Text_Clean\"].tolist()"
   ]
  },
  {
   "cell_type": "code",
   "execution_count": 8,
   "metadata": {
    "collapsed": true
   },
   "outputs": [],
   "source": [
    "# Lemmatization \n",
    "from nltk.corpus import wordnet\n",
    "lemmatizer = WordNetLemmatizer()\n",
    "Text_lemmatized = [[lemmatizer.lemmatize(word, wordnet.NOUN) for word in document.split()] for document in Clean_Text]"
   ]
  },
  {
   "cell_type": "code",
   "execution_count": 9,
   "metadata": {
    "collapsed": true
   },
   "outputs": [],
   "source": [
    "# Only keep nouns\n",
    "\n",
    "Refined_Text=[]\n",
    "for doc in Text_lemmatized:\n",
    "    text_i=[]\n",
    "    \n",
    "    for i in nltk.pos_tag(doc):\n",
    "        if i[1][0]=='N':\n",
    "            text_i.append(i[0])\n",
    "            \n",
    "    Refined_Text.append(text_i)"
   ]
  },
  {
   "cell_type": "code",
   "execution_count": 33,
   "metadata": {
    "collapsed": true
   },
   "outputs": [],
   "source": [
    "# Word count\n",
    "\n",
    "stopwords = nltk.corpus.stopwords.words('english')\n",
    "word_count={}\n",
    "len_filter = 2\n",
    "\n",
    "for i in Refined_Text:\n",
    "    for j in i:\n",
    "        if (j not in stopwords) and (len(j)>len_filter):\n",
    "            if j in word_count:\n",
    "                word_count[j]+=1\n",
    "            else:\n",
    "                word_count[j]=1"
   ]
  },
  {
   "cell_type": "code",
   "execution_count": 330,
   "metadata": {
    "scrolled": true
   },
   "outputs": [
    {
     "data": {
      "text/plain": [
       "[('year', 10189),\n",
       " ('market', 8498),\n",
       " ('rate', 8151),\n",
       " ('stock', 7669),\n",
       " ('price', 5592),\n",
       " ('economy', 4097),\n",
       " ('interest', 3985),\n",
       " ('bank', 3978),\n",
       " ('month', 3794),\n",
       " ('company', 3762),\n",
       " ('week', 3526),\n",
       " ('percent', 3488),\n",
       " ('inflation', 3256),\n",
       " ('investor', 3048),\n",
       " ('time', 2988),\n",
       " ('point', 2952),\n",
       " ('government', 2831),\n",
       " ('dollar', 2818),\n",
       " ('president', 2806),\n",
       " ('tax', 2723),\n",
       " ('bond', 2690),\n",
       " ('yesterday', 2621),\n",
       " ('growth', 2581),\n",
       " ('day', 2567),\n",
       " ('reserve', 2463),\n",
       " ('share', 2454),\n",
       " ('fund', 2439),\n",
       " ('state', 2399),\n",
       " ('index', 2344),\n",
       " ('business', 2326),\n",
       " ('york', 2296),\n",
       " ('quarter', 2194),\n",
       " ('money', 2148),\n",
       " ('increase', 2106),\n",
       " ('job', 1984),\n",
       " ('consumer', 1929),\n",
       " ('fed', 1904),\n",
       " ('report', 1894),\n",
       " ('deficit', 1869),\n",
       " ('policy', 1855),\n",
       " ('sale', 1845),\n",
       " ('economist', 1805),\n",
       " ('trading', 1797),\n",
       " ('analyst', 1768),\n",
       " ('budget', 1751),\n",
       " ('term', 1750),\n",
       " ('today', 1713),\n",
       " ('people', 1699),\n",
       " ('security', 1646),\n",
       " ('dow', 1639),\n",
       " ('treasury', 1620)]"
      ]
     },
     "execution_count": 330,
     "metadata": {},
     "output_type": "execute_result"
    }
   ],
   "source": [
    "# Show the top 50 words\n",
    "\n",
    "from operator import itemgetter\n",
    "W=sorted(word_count.items(), key=itemgetter(1))[::-1]\n",
    "W[:50]"
   ]
  },
  {
   "cell_type": "code",
   "execution_count": 95,
   "metadata": {
    "collapsed": true
   },
   "outputs": [],
   "source": [
    "# List of superfluous words from the top 50 words\n",
    "\n",
    "superfluous_words = ['day', 'today', 'yesterday', 'week', 'month', 'quarter', 'time', 'percent', 'rate', \n",
    "                     'point', 'economy', 'economist', 'growth', 'increase', 'average', 'york', 'report', 'analyst', 'term', 'people']"
   ]
  },
  {
   "cell_type": "code",
   "execution_count": 118,
   "metadata": {
    "collapsed": true
   },
   "outputs": [],
   "source": [
    "# Remove stop words and words with length less than 2\n",
    "\n",
    "stopwords = nltk.corpus.stopwords.words('english')\n",
    "len_filter = 2\n",
    "Final_Text = [[word for word in document if (word not in stopwords) and (word not in superfluous_words) and (len(word)>len_filter)] \n",
    "              for document in Refined_Text]"
   ]
  },
  {
   "cell_type": "code",
   "execution_count": 120,
   "metadata": {},
   "outputs": [
    {
     "name": "stdout",
     "output_type": "stream",
     "text": [
      "Dictionary(21961 unique tokens: ['yield', 'certificate', 'deposit', 'bank', 'tenth']...)\n"
     ]
    }
   ],
   "source": [
    "# Make dictionary using the final words\n",
    "\n",
    "dictionary = corpora.Dictionary(Final_Text)\n",
    "print(dictionary)"
   ]
  },
  {
   "cell_type": "code",
   "execution_count": 121,
   "metadata": {},
   "outputs": [
    {
     "name": "stdout",
     "output_type": "stream",
     "text": [
      "Dictionary(5293 unique tokens: ['yield', 'certificate', 'deposit', 'bank', 'tenth']...)\n"
     ]
    }
   ],
   "source": [
    "# Filter out words appear in less 5 docs or more than half of all docs\n",
    "\n",
    "dictionary.filter_extremes(no_below=5, no_above=0.5)\n",
    "dictionary.compactify()\n",
    "print(dictionary)"
   ]
  },
  {
   "cell_type": "code",
   "execution_count": 333,
   "metadata": {},
   "outputs": [
    {
     "name": "stdout",
     "output_type": "stream",
     "text": [
      "Dictionary(5293 unique tokens: ['yield', 'certificate', 'deposit', 'bank', 'tenth']...)\n"
     ]
    }
   ],
   "source": [
    "print(dictionary)"
   ]
  },
  {
   "cell_type": "code",
   "execution_count": 122,
   "metadata": {
    "collapsed": true
   },
   "outputs": [],
   "source": [
    "corpus = [dictionary.doc2bow(doc) for doc in Final_Text]"
   ]
  },
  {
   "cell_type": "code",
   "execution_count": 123,
   "metadata": {
    "scrolled": true
   },
   "outputs": [
    {
     "name": "stdout",
     "output_type": "stream",
     "text": [
      "[(0, 4), (1, 1), (2, 3), (3, 4), (4, 1), (5, 2), (6, 2), (7, 1), (8, 2), (9, 3), (10, 2), (11, 1), (12, 1), (13, 1), (14, 1), (15, 1), (16, 1), (17, 1), (18, 1), (19, 1), (20, 1), (21, 1), (22, 1), (23, 1)]\n"
     ]
    }
   ],
   "source": [
    "print(corpus[0])"
   ]
  },
  {
   "cell_type": "code",
   "execution_count": 124,
   "metadata": {
    "collapsed": true
   },
   "outputs": [],
   "source": [
    "corpora.MmCorpus.serialize('Economic_news_2.mm', corpus)"
   ]
  },
  {
   "cell_type": "code",
   "execution_count": 125,
   "metadata": {
    "collapsed": true
   },
   "outputs": [],
   "source": [
    "dictionary.save('Economic_news_2.dict')"
   ]
  },
  {
   "cell_type": "markdown",
   "metadata": {},
   "source": [
    "# Load Saved Dictionary and Corpus"
   ]
  },
  {
   "cell_type": "code",
   "execution_count": 126,
   "metadata": {
    "collapsed": true
   },
   "outputs": [],
   "source": [
    "dictionary = corpora.dictionary.Dictionary.load('Economic_news_2.dict')\n",
    "corpus = corpora.MmCorpus('Economic_news_2.mm')"
   ]
  },
  {
   "cell_type": "code",
   "execution_count": 127,
   "metadata": {},
   "outputs": [
    {
     "name": "stdout",
     "output_type": "stream",
     "text": [
      "Dictionary(5293 unique tokens: ['yield', 'certificate', 'deposit', 'bank', 'tenth']...)\n"
     ]
    }
   ],
   "source": [
    "print(dictionary)"
   ]
  },
  {
   "cell_type": "code",
   "execution_count": 128,
   "metadata": {
    "scrolled": false
   },
   "outputs": [
    {
     "name": "stdout",
     "output_type": "stream",
     "text": [
      "[(0, 4.0), (1, 1.0), (2, 3.0), (3, 4.0), (4, 1.0), (5, 2.0), (6, 2.0), (7, 1.0), (8, 2.0), (9, 3.0), (10, 2.0), (11, 1.0), (12, 1.0), (13, 1.0), (14, 1.0), (15, 1.0), (16, 1.0), (17, 1.0), (18, 1.0), (19, 1.0), (20, 1.0), (21, 1.0), (22, 1.0), (23, 1.0)]\n"
     ]
    }
   ],
   "source": [
    "print(corpus[0])"
   ]
  },
  {
   "cell_type": "code",
   "execution_count": 129,
   "metadata": {
    "scrolled": true
   },
   "outputs": [
    {
     "data": {
      "text/plain": [
       "8000"
      ]
     },
     "execution_count": 129,
     "metadata": {},
     "output_type": "execute_result"
    }
   ],
   "source": [
    "len(corpus)"
   ]
  },
  {
   "cell_type": "markdown",
   "metadata": {},
   "source": [
    "# Tune LDA Hyperparameters"
   ]
  },
  {
   "cell_type": "code",
   "execution_count": 141,
   "metadata": {
    "collapsed": true
   },
   "outputs": [],
   "source": [
    "# Cadidates for number of topics\n",
    "\n",
    "Topic_nums=range(1, 31, 1)"
   ]
  },
  {
   "cell_type": "markdown",
   "metadata": {},
   "source": [
    "## Topic Coherence\n",
    "## Umass \n",
    "Umass is based on document cooccurrence counts, a one-preceding segmentation and a logarithmic conditional probability as confirmation measure.\n",
    "\n",
    "The main idea of this coherence is that the occurrence of every top word should be supported by every top preceding top word. Thus, the probability of a top word to occur should be higher if a document already contains a higher order top word of the same topic. Therefore, for every word the logarithm of its conditional probability is calculated using every other top word that has a higher order in the ranking of top words as condition. The probabilities are derived using document cooccurrence counts. The single conditional probabilities are summarized using the arithmetic mean."
   ]
  },
  {
   "cell_type": "code",
   "execution_count": 161,
   "metadata": {
    "collapsed": true
   },
   "outputs": [],
   "source": [
    "#Initialize\n",
    "Umass_100 = []\n",
    "Umass_300 = []\n",
    "Umass_500 = []"
   ]
  },
  {
   "cell_type": "code",
   "execution_count": 335,
   "metadata": {
    "collapsed": true
   },
   "outputs": [],
   "source": [
    "# Set up log to external log file\n",
    "import logging\n",
    "logging.basicConfig(filename='lda_umass.log', format='%(asctime)s : %(levelname)s : %(message)s', level=logging.INFO)\n",
    "\n",
    "# Set up log to terminal\n",
    "import logging\n",
    "logging.basicConfig(format='%(asctime)s : %(levelname)s : %(message)s', level=logging.INFO)"
   ]
  },
  {
   "cell_type": "code",
   "execution_count": 342,
   "metadata": {
    "collapsed": true
   },
   "outputs": [],
   "source": [
    "# Function to train LDA model using the topic coherence measure (either Umass or Cv)\n",
    "\n",
    "def LDA_Tune(Iter, Topic_nums, coherence_option):\n",
    "    result=[]\n",
    "    print(\"Number of Iterations:\", Iter)\n",
    "    \n",
    "    for j in Topic_nums:\n",
    "        lda = models.ldamodel.LdaModel(corpus=corpus, id2word=dictionary, iterations=Iter, num_topics=j, eval_every=None) \n",
    "        \n",
    "        if coherence_option=='u_mass':\n",
    "            cm = models.CoherenceModel(model=lda, corpus=corpus, dictionary=dictionary, coherence='u_mass')\n",
    "            print(\"Num of Topics:\", j, \",\", cm.get_coherence())\n",
    "            result.append(cm.get_coherence())\n",
    "        \n",
    "        elif coherence_option=='c_v':\n",
    "            cm = models.CoherenceModel(model=lda, texts=Final_Text, dictionary=dictionary, coherence='c_v')  #need to use \"texts\" here\n",
    "            print(\"Num of Topics:\", j, \",\", cm.get_coherence())\n",
    "            result.append(cm.get_coherence())\n",
    "    \n",
    "    return(result)  "
   ]
  },
  {
   "cell_type": "code",
   "execution_count": 343,
   "metadata": {},
   "outputs": [
    {
     "name": "stdout",
     "output_type": "stream",
     "text": [
      "Number of Iterations: 100\n",
      "Num of Topics: 1 , -1.79540233156\n",
      "Num of Topics: 2 , -1.71601501539\n",
      "Num of Topics: 3 , -1.79129498196\n",
      "Num of Topics: 4 , -1.82796312304\n",
      "Num of Topics: 5 , -1.75295434002\n",
      "Num of Topics: 6 , -1.85954537709\n",
      "Num of Topics: 7 , -1.88013051883\n",
      "Num of Topics: 8 , -1.90380875705\n",
      "Num of Topics: 9 , -1.99212657508\n",
      "Num of Topics: 10 , -1.98138859789\n",
      "Num of Topics: 11 , -2.02914532636\n",
      "Num of Topics: 12 , -2.01091852304\n",
      "Num of Topics: 13 , -2.01932389033\n",
      "Num of Topics: 14 , -2.05472670889\n",
      "Num of Topics: 15 , -2.02838970941\n",
      "Num of Topics: 16 , -2.13051953973\n",
      "Num of Topics: 17 , -2.50723237354\n",
      "Num of Topics: 18 , -2.19645284604\n",
      "Num of Topics: 19 , -2.19113462868\n",
      "Num of Topics: 20 , -2.34578174706\n",
      "Num of Topics: 21 , -2.28237866605\n",
      "Num of Topics: 22 , -2.26254555677\n",
      "Num of Topics: 23 , -2.56019980342\n",
      "Num of Topics: 24 , -2.63817976201\n",
      "Num of Topics: 25 , -2.3439385782\n",
      "Num of Topics: 26 , -2.59789297332\n",
      "Num of Topics: 27 , -2.5583481092\n",
      "Num of Topics: 28 , -2.43000633411\n",
      "Num of Topics: 29 , -2.73346778582\n",
      "Num of Topics: 30 , -2.56243206157\n",
      "Number of Iterations: 300\n",
      "Num of Topics: 1 , -1.79540233156\n",
      "Num of Topics: 2 , -1.62349250643\n",
      "Num of Topics: 3 , -1.70687337057\n",
      "Num of Topics: 4 , -1.7489292878\n",
      "Num of Topics: 5 , -1.76596286835\n",
      "Num of Topics: 6 , -1.87361284559\n",
      "Num of Topics: 7 , -1.83194502519\n",
      "Num of Topics: 8 , -1.86694774958\n",
      "Num of Topics: 9 , -1.90653468288\n",
      "Num of Topics: 10 , -2.0000307689\n",
      "Num of Topics: 11 , -2.041030307\n",
      "Num of Topics: 12 , -2.0679912234\n",
      "Num of Topics: 13 , -2.15127730842\n",
      "Num of Topics: 14 , -2.07655206886\n",
      "Num of Topics: 15 , -2.0639856822\n",
      "Num of Topics: 16 , -2.11782917165\n",
      "Num of Topics: 17 , -2.15541436955\n",
      "Num of Topics: 18 , -2.20357915539\n",
      "Num of Topics: 19 , -2.19111859109\n",
      "Num of Topics: 20 , -2.09026474575\n",
      "Num of Topics: 21 , -2.2641258303\n",
      "Num of Topics: 22 , -2.59420801922\n",
      "Num of Topics: 23 , -2.22781358036\n",
      "Num of Topics: 24 , -2.47423515599\n",
      "Num of Topics: 25 , -2.6315155145\n",
      "Num of Topics: 26 , -2.5018640582\n",
      "Num of Topics: 27 , -2.41413646752\n",
      "Num of Topics: 28 , -2.45381409367\n",
      "Num of Topics: 29 , -2.38781577246\n",
      "Num of Topics: 30 , -2.48223817591\n",
      "Number of Iterations: 500\n",
      "Num of Topics: 1 , -1.79540233156\n",
      "Num of Topics: 2 , -1.87448707822\n",
      "Num of Topics: 3 , -1.72885177388\n",
      "Num of Topics: 4 , -1.76696932708\n",
      "Num of Topics: 5 , -1.76204348424\n",
      "Num of Topics: 6 , -1.80131643143\n",
      "Num of Topics: 7 , -1.90838331053\n",
      "Num of Topics: 8 , -1.94794119932\n",
      "Num of Topics: 9 , -1.92576850427\n",
      "Num of Topics: 10 , -1.90650029272\n",
      "Num of Topics: 11 , -1.89236474905\n",
      "Num of Topics: 12 , -2.16722709752\n",
      "Num of Topics: 13 , -2.14149750444\n",
      "Num of Topics: 14 , -2.07800557616\n",
      "Num of Topics: 15 , -2.03198136165\n",
      "Num of Topics: 16 , -2.18356233094\n",
      "Num of Topics: 17 , -2.2932366154\n",
      "Num of Topics: 18 , -2.28449820498\n",
      "Num of Topics: 19 , -2.32979919244\n",
      "Num of Topics: 20 , -2.28581538508\n",
      "Num of Topics: 21 , -2.21349978266\n",
      "Num of Topics: 22 , -2.37164612902\n",
      "Num of Topics: 23 , -2.67344867025\n",
      "Num of Topics: 24 , -2.45555264686\n",
      "Num of Topics: 25 , -2.255668706\n",
      "Num of Topics: 26 , -2.52579853172\n",
      "Num of Topics: 27 , -2.43388958496\n",
      "Num of Topics: 28 , -2.50414895843\n",
      "Num of Topics: 29 , -2.59042595515\n",
      "Num of Topics: 30 , -2.58257630731\n"
     ]
    }
   ],
   "source": [
    "Umass_100=LDA_Tune(100, Topic_nums, 'u_mass')\n",
    "Umass_300=LDA_Tune(300, Topic_nums, 'u_mass')\n",
    "Umass_500=LDA_Tune(500, Topic_nums, 'u_mass')"
   ]
  },
  {
   "cell_type": "code",
   "execution_count": 344,
   "metadata": {
    "scrolled": true
   },
   "outputs": [
    {
     "data": {
      "image/png": "[encoded data removed]",
      "text/plain": [
       "<matplotlib.figure.Figure at 0x12625c940>"
      ]
     },
     "metadata": {},
     "output_type": "display_data"
    }
   ],
   "source": [
    "# Plot Umass\n",
    "\n",
    "plt.figure(figsize=(10,5))\n",
    "x = Topic_nums\n",
    "plt.plot(x, Umass_100)\n",
    "plt.plot(x, Umass_300)\n",
    "plt.plot(x, Umass_500)\n",
    "plt.xlabel(\"Number of Topics\")\n",
    "plt.ylabel(\"Topic Coherence\")\n",
    "plt.xticks(Topic_nums)\n",
    "plt.legend(['100 iter','300 iter', '500 iter'], loc='upper right')\n",
    "plt.title('Umass')\n",
    "plt.show()\n",
    "\n",
    "# Maximum obatined at (2,300)"
   ]
  },
  {
   "cell_type": "code",
   "execution_count": 345,
   "metadata": {
    "collapsed": true
   },
   "outputs": [],
   "source": [
    "# The optiamal model based on Umass (iterations=300, num_topics=)\n",
    "\n",
    "lda_umass = models.ldamodel.LdaModel(corpus=corpus, id2word=dictionary, iterations=300, num_topics=2, passes=20)"
   ]
  },
  {
   "cell_type": "code",
   "execution_count": 360,
   "metadata": {
    "collapsed": true
   },
   "outputs": [],
   "source": [
    "lda_umass.save('Economic_news_umass.model')"
   ]
  },
  {
   "cell_type": "markdown",
   "metadata": {},
   "source": [
    "## Find the topic each article belongs to"
   ]
  },
  {
   "cell_type": "code",
   "execution_count": 432,
   "metadata": {},
   "outputs": [
    {
     "name": "stdout",
     "output_type": "stream",
     "text": [
      "Topic: 1\n",
      "market\n",
      "stock\n",
      "price\n",
      "interest\n",
      "investor\n",
      "company\n",
      "bond\n",
      "share\n",
      "dollar\n",
      "index\n",
      "Topic: 2\n",
      "tax\n",
      "president\n",
      "state\n",
      "government\n",
      "budget\n",
      "job\n",
      "house\n",
      "deficit\n",
      "bank\n",
      "administration\n"
     ]
    }
   ],
   "source": [
    "# Show the top 10 words of each topic\n",
    "\n",
    "for i in range(2):\n",
    "    print(\"Topic:\", i+1)\n",
    "    for k in lda_umass.get_topic_terms(i):\n",
    "        print(dictionary[k[0]])"
   ]
  },
  {
   "cell_type": "code",
   "execution_count": 433,
   "metadata": {
    "collapsed": true
   },
   "outputs": [],
   "source": [
    "# Function to assign each article to topic using the maximum topic probability\n",
    "\n",
    "def Doc_membership(model):\n",
    "    Assignment = []\n",
    "    for i in range(len(corpus)):\n",
    "        Doc_topic = sorted(model.get_document_topics(corpus[i]),key=itemgetter(1))\n",
    "        Assignment.append((i+1, Doc_topic[-1][0]+1))   #need to \"+1\" since the indices start from 0\n",
    "    return Assignment"
   ]
  },
  {
   "cell_type": "code",
   "execution_count": 434,
   "metadata": {},
   "outputs": [
    {
     "name": "stdout",
     "output_type": "stream",
     "text": [
      "[(1, 4363), (2, 3637)]\n"
     ]
    }
   ],
   "source": [
    "# List of tuples (Document_id, topic_id)\n",
    "Doc_assign_umass = Doc_membership(lda_umass)\n",
    "\n",
    "# Dictionary of {Document: Topic_id}\n",
    "Doc_Topic_umass = dict(Doc_assign_umass)\n",
    "\n",
    "# Dictionary of {Topic_id: documents}\n",
    "Topic_Doc_umass={}\n",
    "for i in Doc_Topic_umass:\n",
    "    value = Doc_Topic_umass.get(i)\n",
    "    Topic_Doc_umass.setdefault(value,[]).append(i)  \n",
    "    \n",
    "# Dictionary of {Topic_id: number of documents}\n",
    "Topic_count_umass={}\n",
    "for key in Topic_Doc_umass:\n",
    "    Topic_count_umass[key] = len(Topic_Doc_umass[key])\n",
    "    \n",
    "print(sorted(Topic_count_umass.items()))"
   ]
  },
  {
   "cell_type": "code",
   "execution_count": 435,
   "metadata": {},
   "outputs": [
    {
     "data": {
      "text/plain": [
       "1"
      ]
     },
     "execution_count": 435,
     "metadata": {},
     "output_type": "execute_result"
    }
   ],
   "source": [
    "# The topic of article no.2587 (have changed the numbering to makeing it start from 1)\n",
    "Doc_Topic_umass[2587]"
   ]
  },
  {
   "cell_type": "code",
   "execution_count": 436,
   "metadata": {},
   "outputs": [
    {
     "data": {
      "text/plain": [
       "[(0, 0.89447860574687577), (1, 0.10552139425312428)]"
      ]
     },
     "execution_count": 436,
     "metadata": {},
     "output_type": "execute_result"
    }
   ],
   "source": [
    "# Show article no.2587's topic probabilites (2586 here as the numbering from the original model output starts from 0)\n",
    "lda_umass.get_document_topics(corpus[2586])"
   ]
  },
  {
   "cell_type": "markdown",
   "metadata": {},
   "source": [
    "## C_v\n",
    "C_v is based on a sliding window, a one-set segmentation of the top words and an indirect confirmation measure that uses normalized pointwise mutual information (NPMI) and the cosinus similarity.\n",
    "\n",
    "This coherence measure retrieves cooccurrence counts for the given words using a sliding window and the window size 110. The counts are used to calculated the NPMI of every top word to every other top word, thus, resulting in a set of vectors—one for every top word. The one-set segmentation of the top words leads to the calculation of the similarity between every top word vector and the sum of all top word vectors. "
   ]
  },
  {
   "cell_type": "code",
   "execution_count": 347,
   "metadata": {
    "collapsed": true
   },
   "outputs": [],
   "source": [
    "c_v_100 = []\n",
    "c_v_300 = []\n",
    "c_v_500 = []"
   ]
  },
  {
   "cell_type": "code",
   "execution_count": 356,
   "metadata": {},
   "outputs": [
    {
     "name": "stdout",
     "output_type": "stream",
     "text": [
      "Number of Iterations: 100\n",
      "Num of Topics: 1 , 0.310186360254\n",
      "Num of Topics: 2 , 0.477272517315\n",
      "Num of Topics: 3 , 0.456534750011\n",
      "Num of Topics: 4 , 0.515438066385\n",
      "Num of Topics: 5 , 0.452755632087\n",
      "Num of Topics: 6 , 0.430264449493\n",
      "Num of Topics: 7 , 0.456699508253\n",
      "Num of Topics: 8 , 0.44965611813\n",
      "Num of Topics: 9 , 0.462520910355\n",
      "Num of Topics: 10 , 0.479519159428\n",
      "Num of Topics: 11 , 0.451149899471\n",
      "Num of Topics: 12 , 0.515978372019\n",
      "Num of Topics: 13 , 0.470650933659\n",
      "Num of Topics: 14 , 0.482906222079\n",
      "Num of Topics: 15 , 0.491099929241\n",
      "Num of Topics: 16 , 0.450063886972\n",
      "Num of Topics: 17 , 0.434721529178\n",
      "Num of Topics: 18 , 0.45358902671\n",
      "Num of Topics: 19 , 0.453731558979\n",
      "Num of Topics: 20 , 0.463340529183\n",
      "Num of Topics: 21 , 0.460739555347\n",
      "Num of Topics: 22 , 0.432467552269\n",
      "Num of Topics: 23 , 0.456536880301\n",
      "Num of Topics: 24 , 0.459563559484\n",
      "Num of Topics: 25 , 0.457389198834\n",
      "Num of Topics: 26 , 0.454826748766\n",
      "Num of Topics: 27 , 0.430075420248\n",
      "Num of Topics: 28 , 0.431109988809\n",
      "Num of Topics: 29 , 0.447734988436\n",
      "Num of Topics: 30 , 0.439731013212\n",
      "Number of Iterations: 300\n",
      "Num of Topics: 1 , 0.310186360254\n",
      "Num of Topics: 2 , 0.359412320268\n",
      "Num of Topics: 3 , 0.428564673877\n",
      "Num of Topics: 4 , 0.538233036366\n",
      "Num of Topics: 5 , 0.483878962841\n",
      "Num of Topics: 6 , 0.50950331872\n",
      "Num of Topics: 7 , 0.482087994381\n",
      "Num of Topics: 8 , 0.489765579975\n",
      "Num of Topics: 9 , 0.51540227615\n",
      "Num of Topics: 10 , 0.456487562286\n",
      "Num of Topics: 11 , 0.478455025634\n",
      "Num of Topics: 12 , 0.473817646058\n",
      "Num of Topics: 13 , 0.502505355199\n",
      "Num of Topics: 14 , 0.480968395325\n",
      "Num of Topics: 15 , 0.459975202234\n",
      "Num of Topics: 16 , 0.487780754705\n",
      "Num of Topics: 17 , 0.447207327218\n",
      "Num of Topics: 18 , 0.480648154967\n",
      "Num of Topics: 19 , 0.455649659683\n",
      "Num of Topics: 20 , 0.447895617707\n",
      "Num of Topics: 21 , 0.450385403299\n",
      "Num of Topics: 22 , 0.440016707459\n",
      "Num of Topics: 23 , 0.449289068397\n",
      "Num of Topics: 24 , 0.444320678287\n",
      "Num of Topics: 25 , 0.450760443864\n",
      "Num of Topics: 26 , 0.445884981413\n",
      "Num of Topics: 27 , 0.414997402819\n",
      "Num of Topics: 28 , 0.448125682596\n",
      "Num of Topics: 29 , 0.421776130322\n",
      "Num of Topics: 30 , 0.452321763887\n",
      "Number of Iterations: 500\n",
      "Num of Topics: 1 , 0.310186360254\n",
      "Num of Topics: 2 , 0.47754795569\n",
      "Num of Topics: 3 , 0.420173480616\n",
      "Num of Topics: 4 , 0.463082789361\n",
      "Num of Topics: 5 , 0.449099557697\n",
      "Num of Topics: 6 , 0.522075338439\n",
      "Num of Topics: 7 , 0.491153025098\n",
      "Num of Topics: 8 , 0.45641367659\n",
      "Num of Topics: 9 , 0.466302702822\n",
      "Num of Topics: 10 , 0.488908119131\n",
      "Num of Topics: 11 , 0.458731500323\n",
      "Num of Topics: 12 , 0.465423639689\n",
      "Num of Topics: 13 , 0.479273460682\n",
      "Num of Topics: 14 , 0.438051225845\n",
      "Num of Topics: 15 , 0.463945720861\n",
      "Num of Topics: 16 , 0.441206016921\n",
      "Num of Topics: 17 , 0.463711295467\n",
      "Num of Topics: 18 , 0.467857382935\n",
      "Num of Topics: 19 , 0.449080046714\n",
      "Num of Topics: 20 , 0.461834218201\n",
      "Num of Topics: 21 , 0.456477781554\n",
      "Num of Topics: 22 , 0.47150579677\n",
      "Num of Topics: 23 , 0.46796062868\n",
      "Num of Topics: 24 , 0.440207007188\n",
      "Num of Topics: 25 , 0.468034586314\n",
      "Num of Topics: 26 , 0.463658072269\n",
      "Num of Topics: 27 , 0.431109450928\n",
      "Num of Topics: 28 , 0.441419199374\n",
      "Num of Topics: 29 , 0.440418084272\n",
      "Num of Topics: 30 , 0.423893375347\n"
     ]
    }
   ],
   "source": [
    "c_v_100=LDA_Tune(100, Topic_nums, 'c_v')\n",
    "c_v_300=LDA_Tune(300, Topic_nums, 'c_v')\n",
    "c_v_500=LDA_Tune(500, Topic_nums, 'c_v')"
   ]
  },
  {
   "cell_type": "code",
   "execution_count": 357,
   "metadata": {},
   "outputs": [
    {
     "data": {
      "image/png": "[encoded data removed]",
      "text/plain": [
       "<matplotlib.figure.Figure at 0x126ef6208>"
      ]
     },
     "metadata": {},
     "output_type": "display_data"
    }
   ],
   "source": [
    "# Plot Cv\n",
    "\n",
    "plt.figure(figsize=(10,5))\n",
    "x = Topic_nums\n",
    "plt.plot(x, c_v_100)\n",
    "plt.plot(x, c_v_300)\n",
    "plt.plot(x, c_v_500)\n",
    "plt.xlabel(\"Num of Topics\")\n",
    "plt.ylabel(\"Topic Coherence\")\n",
    "plt.xticks(Topic_nums)\n",
    "plt.legend(['100 iter','300 iter', '500 iter'], loc='upper right')\n",
    "plt.title('Cv')\n",
    "plt.show()\n",
    "\n",
    "# Maximum obatined at (4,300)"
   ]
  },
  {
   "cell_type": "code",
   "execution_count": 358,
   "metadata": {
    "collapsed": true
   },
   "outputs": [],
   "source": [
    "# The optiamal model based on Cv (iterations=300, num_topics=4)\n",
    "\n",
    "lda_cv = models.ldamodel.LdaModel(corpus=corpus, id2word=dictionary, iterations=300, num_topics=4, passes=20)"
   ]
  },
  {
   "cell_type": "code",
   "execution_count": 361,
   "metadata": {
    "collapsed": true
   },
   "outputs": [],
   "source": [
    "lda_cv.save('Economic_news_cv.model')"
   ]
  },
  {
   "cell_type": "markdown",
   "metadata": {},
   "source": [
    "## Find the topic each article belongs to"
   ]
  },
  {
   "cell_type": "code",
   "execution_count": 429,
   "metadata": {},
   "outputs": [
    {
     "name": "stdout",
     "output_type": "stream",
     "text": [
      "Topic: 1\n",
      "tax\n",
      "state\n",
      "president\n",
      "job\n",
      "budget\n",
      "government\n",
      "deficit\n",
      "unemployment\n",
      "house\n",
      "administration\n",
      "Topic: 2\n",
      "stock\n",
      "market\n",
      "price\n",
      "index\n",
      "investor\n",
      "dollar\n",
      "trading\n",
      "dow\n",
      "bond\n",
      "share\n",
      "Topic: 3\n",
      "company\n",
      "sale\n",
      "business\n",
      "share\n",
      "industry\n",
      "firm\n",
      "home\n",
      "corp\n",
      "service\n",
      "inc\n",
      "Topic: 4\n",
      "bank\n",
      "interest\n",
      "reserve\n",
      "fed\n",
      "fund\n",
      "loan\n",
      "market\n",
      "money\n",
      "treasury\n",
      "credit\n"
     ]
    }
   ],
   "source": [
    "# Show the top words in each topic\n",
    "\n",
    "for i in range(4):\n",
    "    print(\"Topic:\", i+1)\n",
    "    for k in lda_cv.get_topic_terms(i):\n",
    "        print(dictionary[k[0]])"
   ]
  },
  {
   "cell_type": "code",
   "execution_count": 430,
   "metadata": {},
   "outputs": [
    {
     "name": "stdout",
     "output_type": "stream",
     "text": [
      "[(1, 2573), (2, 2689), (3, 1358), (4, 1380)]\n"
     ]
    }
   ],
   "source": [
    "#List of tuples (Document_id, topic_id)\n",
    "Doc_assign_cv = Doc_membership(lda_cv)\n",
    "\n",
    "#Dictionary of {Document: Topic_id}\n",
    "Doc_Topic_cv = dict(Doc_assign_cv)\n",
    "\n",
    "#Dictionary of {Topic_id: documents}\n",
    "Topic_Doc_cv={}\n",
    "for i in Doc_Topic_cv:\n",
    "    value = Doc_Topic_cv.get(i)\n",
    "    Topic_Doc_cv.setdefault(value,[]).append(i)  \n",
    "    \n",
    "#Dictionary of {Topic_id: number of documents}\n",
    "Topic_count_cv={}\n",
    "for key in Topic_Doc_cv:\n",
    "    Topic_count_cv[key] = len(Topic_Doc_cv[key])\n",
    "    \n",
    "print(sorted(Topic_count_cv.items()))"
   ]
  },
  {
   "cell_type": "code",
   "execution_count": 431,
   "metadata": {},
   "outputs": [
    {
     "data": {
      "text/plain": [
       "2"
      ]
     },
     "execution_count": 431,
     "metadata": {},
     "output_type": "execute_result"
    }
   ],
   "source": [
    "# The topic of article no.2587 (have changed the numbering to makeing it start from 1)\n",
    "Doc_Topic_cv[2587]"
   ]
  },
  {
   "cell_type": "code",
   "execution_count": 438,
   "metadata": {},
   "outputs": [
    {
     "data": {
      "text/plain": [
       "[(0, 0.051153546538125517), (1, 0.52104933880707194), (3, 0.4237244740304878)]"
      ]
     },
     "execution_count": 438,
     "metadata": {},
     "output_type": "execute_result"
    }
   ],
   "source": [
    "# Show article no.2587's topic probabilites (2586 here as the numbering from the original model output starts from 0)\n",
    "lda_cv.get_document_topics(corpus[2586])"
   ]
  },
  {
   "cell_type": "code",
   "execution_count": null,
   "metadata": {
    "collapsed": true
   },
   "outputs": [],
   "source": []
  }
 ],
 "metadata": {
  "kernelspec": {
   "display_name": "Python 3",
   "language": "python",
   "name": "python3"
  },
  "language_info": {
   "codemirror_mode": {
    "name": "ipython",
    "version": 3
   },
   "file_extension": ".py",
   "mimetype": "text/x-python",
   "name": "python",
   "nbconvert_exporter": "python",
   "pygments_lexer": "ipython3",
   "version": "3.6.1"
  }
 },
 "nbformat": 4,
 "nbformat_minor": 2
}
